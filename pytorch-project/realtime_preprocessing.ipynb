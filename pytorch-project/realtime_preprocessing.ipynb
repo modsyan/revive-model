{
 "cells": [
  {
   "cell_type": "code",
   "execution_count": 22,
   "metadata": {},
   "outputs": [],
   "source": [
    "import cv2\n",
    "import mediapipe as mp\n",
    "import pandas as pd"
   ]
  },
  {
   "cell_type": "code",
   "execution_count": 23,
   "metadata": {},
   "outputs": [],
   "source": [
    "# Load the video file\n",
    "video_path = 'data/test_exercises/test.mp4'\n",
    "cap = cv2.VideoCapture(video_path)"
   ]
  },
  {
   "cell_type": "code",
   "execution_count": 24,
   "metadata": {},
   "outputs": [
    {
     "name": "stderr",
     "output_type": "stream",
     "text": [
      "I0000 00:00:1714080696.681344   25348 gl_context_egl.cc:85] Successfully initialized EGL. Major : 1 Minor: 5\n",
      "I0000 00:00:1714080696.682658   27273 gl_context.cc:357] GL version: 3.2 (OpenGL ES 3.2 Mesa 24.0.3-arch1.2), renderer: Mesa Intel(R) UHD Graphics 730 (ADL-S GT1)\n"
     ]
    }
   ],
   "source": [
    "# Initialize MediaPipe Pose\n",
    "mp_pose = mp.solutions.pose\n",
    "pose = mp_pose.Pose()"
   ]
  },
  {
   "cell_type": "code",
   "execution_count": 25,
   "metadata": {},
   "outputs": [],
   "source": [
    "# Initialize DataFrame to store keypoints\n",
    "columns = ['pose_id', 'pose'] + [f'{part}_{coord}' for part in mp_pose.PoseLandmark._member_names_ for coord in ['x', 'y', 'z']]\n",
    "df = pd.DataFrame(columns=columns)"
   ]
  },
  {
   "cell_type": "code",
   "execution_count": 26,
   "metadata": {},
   "outputs": [],
   "source": [
    "# Process each frame of the video\n",
    "frame_count = 0\n",
    "\n",
    "while cap.isOpened():\n",
    "    ret, frame = cap.read()\n",
    "    if not ret:\n",
    "        break\n",
    "\n",
    "    # Convert the image to RGB\n",
    "    frame_rgb = cv2.cvtColor(frame, cv2.COLOR_BGR2RGB)\n",
    "\n",
    "    # Detect poses\n",
    "    results = pose.process(frame_rgb)\n",
    "\n",
    "    # Extract keypoints and flatten them\n",
    "    keypoints = []\n",
    "    if results.pose_landmarks:\n",
    "        for landmark in results.pose_landmarks.landmark:\n",
    "            keypoints.extend([landmark.x, landmark.y, landmark.z])\n",
    "    else:\n",
    "        keypoints.extend([0.0] * 75)  # Fill with zeros if no keypoints detected\n",
    "\n",
    "    # Append pose_id and pose\n",
    "    keypoints = [frame_count, 'pose'] + keypoints\n",
    "\n",
    "    # Append keypoints to DataFrame\n",
    "    df.loc[frame_count] = keypoints\n",
    "\n",
    "    frame_count += 1\n",
    "\n",
    "# Save DataFrame to CSV\n",
    "df.to_csv('output/output_keypoints.csv', index=False)\n"
   ]
  }
 ],
 "metadata": {
  "kernelspec": {
   "display_name": ".venv",
   "language": "python",
   "name": "python3"
  },
  "language_info": {
   "codemirror_mode": {
    "name": "ipython",
    "version": 3
   },
   "file_extension": ".py",
   "mimetype": "text/x-python",
   "name": "python",
   "nbconvert_exporter": "python",
   "pygments_lexer": "ipython3",
   "version": "3.11.8"
  }
 },
 "nbformat": 4,
 "nbformat_minor": 2
}
