{
 "cells": [
  {
   "cell_type": "code",
   "execution_count": null,
   "id": "initial_id",
   "metadata": {
    "collapsed": true
   },
   "outputs": [],
   "source": [
    "import project.constants as cn\n",
    "import project.utils.file_system as fs\n",
    "import numpy as np\n",
    "from scipy.interpolate import interp1d"
   ]
  },
  {
   "cell_type": "code",
   "execution_count": 1,
   "id": "5642ed1a02b35df9",
   "metadata": {
    "ExecuteTime": {
     "end_time": "2024-03-20T08:10:01.049261Z",
     "start_time": "2024-03-20T08:10:01.041656Z"
    },
    "collapsed": false
   },
   "outputs": [],
   "source": [
    "movement_number = 1\n",
    "\n",
    "n_subjects = 10  # num_of_exercises\n",
    "n_episodes = 10  # numb_of_reputation_per_exersice\n",
    "\n",
    "PREPARE_DATA_DIR = \"../../../data_output\"\n",
    "\n",
    "UI_PRMD_DIR = '../datasets/ui-prmd/'\n",
    "UI_PRMD_CORRECT_SEGMENTED_MOVEMENTS = '../dataset/Segmented\\ Movements/'\n",
    "UI_PRMD_INCORRECT_SEGMENTED_MOVEMENTS = '../dataset/SegmentedIncorrect\\ Segmented\\ Movements/'\n",
    "\n",
    "UI_MOVEMENT_CORRECT_PATH = '../datasets/ui-prmd/Segmented Movements/'\n",
    "UI_MOVEMENT_INCORRECT_PATH = '../datasets/ui-prmd/SegmentedIncorrect Segmented Movements/'\n"
   ]
  },
  {
   "cell_type": "code",
   "execution_count": null,
   "id": "aa12ef2189bfb3f7",
   "metadata": {
    "collapsed": false
   },
   "outputs": [],
   "source": [
    "def load_data(subject, episode, correct=True):\n",
    "    prefix = f\"{UI_MOVEMENT_CORRECT_PATH}/Vicon/Angles/\" if correct else f\"{UI_MOVEMENT_INCORRECT_PATH}/Vicon/Angles/\"\n",
    "    filename = f\"m{movement_number:02d}_s{subject:02d}_e{episode:02d}_angles.txt\"\n",
    "    path = prefix + filename\n",
    "    return np.loadtxt(path, delimiter=',')\n",
    "\n",
    "\n",
    "def ensure_exercise_exists(ex_dir_name):\n",
    "    fs.create_dir_if_not_exists(cn.UI_PRMD_CORRECT_SEGMENTED_MOVEMENTS)\n",
    "    fs.ensure_dir_exists(ex_dir_name)\n"
   ]
  },
  {
   "cell_type": "code",
   "execution_count": null,
   "id": "822473b8a999307d",
   "metadata": {
    "collapsed": false
   },
   "outputs": [],
   "source": [
    "# Load data for correct sequences\n",
    "\n",
    "correct_data = [load_data(s, e) for s in range(1, n_subjects + 1)\n",
    "                for e in range(1, n_episodes + 1)]\n",
    "\n",
    "incorrect_data = [load_data(s, e, correct=False) for s in range(1, n_subjects + 1)\n",
    "                  for e in range(1, n_episodes + 1)]"
   ]
  },
  {
   "cell_type": "code",
   "execution_count": null,
   "id": "34ca50c183689208",
   "metadata": {
    "collapsed": false
   },
   "outputs": [],
   "source": [
    "# Perform linear alignment\n",
    "length_mean = 240\n",
    "correct_aligned = [interp1d(np.arange(len(seq)), seq, axis=0)(np.linspace(0, len(seq) - 1, length_mean)) for seq\n",
    "                   in correct_data]\n",
    "incorrect_aligned = [interp1d(np.arange(len(seq)), seq, axis=0)(np.linspace(0, len(seq) - 1, length_mean)) for\n",
    "                     seq in incorrect_data]"
   ]
  },
  {
   "cell_type": "code",
   "execution_count": null,
   "id": "2096864796201c8a",
   "metadata": {
    "collapsed": false
   },
   "outputs": [],
   "source": [
    "# Transform into matrices\n",
    "correct_xm = np.concatenate(correct_aligned)\n",
    "incorrect_xm = np.concatenate(incorrect_aligned)"
   ]
  },
  {
   "cell_type": "code",
   "execution_count": null,
   "id": "c9dbdd10d806311b",
   "metadata": {
    "collapsed": false
   },
   "outputs": [],
   "source": [
    "# Re-center the data to obtain zero mean\n",
    "data_mean = np.mean(correct_xm, axis=1)\n",
    "centered_correct_data = correct_xm - data_mean[:, np.newaxis]\n",
    "data_mean_inc = np.mean(incorrect_xm, axis=1)\n",
    "centered_incorrect_data = incorrect_xm - data_mean_inc[:, np.newaxis]"
   ]
  },
  {
   "cell_type": "code",
   "execution_count": null,
   "id": "39c9506f946816e6",
   "metadata": {
    "collapsed": false
   },
   "outputs": [],
   "source": [
    "# Scale the data between -1 and 1\n",
    "scaling_value = np.max([np.max(centered_correct_data), np.max(np.abs(centered_correct_data))])\n",
    "scaling_value = np.ceil(scaling_value)\n",
    "\n",
    "data_correct = centered_correct_data / scaling_value\n",
    "data_incorrect = centered_incorrect_data / scaling_value\n"
   ]
  },
  {
   "cell_type": "code",
   "execution_count": null,
   "id": "4363814e61452c90",
   "metadata": {
    "collapsed": false
   },
   "outputs": [],
   "source": [
    "# Save the data\n",
    "np.savetxt(f'{PREPARE_DATA_DIR}/Data_Correct.csv', data_correct, delimiter=',')\n",
    "np.savetxt(f'{PREPARE_DATA_DIR}/Data_Incorrect.csv', data_incorrect, delimiter=',')\n"
   ]
  }
 ],
 "metadata": {
  "kernelspec": {
   "display_name": "Python 3",
   "language": "python",
   "name": "python3"
  },
  "language_info": {
   "codemirror_mode": {
    "name": "ipython",
    "version": 2
   },
   "file_extension": ".py",
   "mimetype": "text/x-python",
   "name": "python",
   "nbconvert_exporter": "python",
   "pygments_lexer": "ipython2",
   "version": "2.7.6"
  }
 },
 "nbformat": 4,
 "nbformat_minor": 5
}
