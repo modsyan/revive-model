{
 "cells": [
  {
   "cell_type": "code",
   "outputs": [],
   "source": [
    "import pandas as pd\n",
    "import numpy as np\n",
    "from scipy.interpolate import interp1d\n",
    "from matplotlib import pyplot as plt\n"
   ],
   "metadata": {
    "collapsed": false
   },
   "id": "2f160fad2d54f16e"
  },
  {
   "cell_type": "markdown",
   "source": [
    "\n",
    "\n",
    "### Load Autoencoder files"
   ],
   "metadata": {
    "collapsed": false
   },
   "id": "be2586c3b2726d07"
  },
  {
   "cell_type": "code",
   "outputs": [],
   "source": [
    "\n",
    "data_nn = np.loadtxt('Autoencoder_Output_Correct.csv', delimiter=',')\n",
    "\n",
    "Data_NN_inc = np.loadtxt('Autoencoder_Output_Incorrect.csv', delimiter=',')\n"
   ],
   "metadata": {
    "collapsed": false
   },
   "id": "583f35de897004e9"
  },
  {
   "cell_type": "markdown",
   "source": [
    "\n",
    "\n",
    "### Reshape the data for GMM "
   ],
   "metadata": {
    "collapsed": false
   },
   "id": "77c281cc7b12deb7"
  },
  {
   "cell_type": "code",
   "execution_count": null,
   "id": "initial_id",
   "metadata": {
    "collapsed": true
   },
   "outputs": [],
   "source": [
    "# % The output dimension of the autoencoder is 4\n",
    "nDim = 4\n",
    "\n",
    "# % number of frames in each movement repetition\n",
    "l = data_nn.shape[1] // nDim"
   ]
  },
  {
   "cell_type": "code",
   "outputs": [],
   "source": [
    "# Incorrect sequences\n",
    "\n",
    "n_seq_corr = data_nn.shape[0]  # % number of correct sequences\n",
    "\n",
    "data = np.tile(np.arange(1, l + 1), n_seq_corr)\n",
    "data_position = np.empty((nDim, 0))\n",
    "\n",
    "# % create a row for the time indices of correct data\n",
    "for i in range(n_seq_corr):\n",
    "    temp = np.empty((0, nDim))\n",
    "    for j in range(nDim):\n",
    "        temp = np.vstack((temp, data_nn[i, j:nDim * l:nDim]))\n",
    "    data_position = np.hstack((data_position, temp))\n",
    "\n",
    "data = np.vstack((data, data_position))"
   ],
   "metadata": {
    "collapsed": false
   },
   "id": "f1720565bd6a13c5"
  },
  {
   "cell_type": "code",
   "outputs": [],
   "source": [
    "\n",
    "# % Incorrect sequences\n",
    "\n",
    "n_seq_inc = Data_NN_inc.shape[0]\n",
    "Data_inc = np.tile(np.arange(1, l + 1), n_seq_inc)\n",
    "Data_inc_position = np.empty((nDim, 0))\n",
    "\n",
    "for i in range(n_seq_inc):\n",
    "    temp = np.empty((0, nDim))\n",
    "    for j in range(nDim):\n",
    "        temp = np.vstack((temp, Data_NN_inc[i, j:nDim * l:nDim]))\n",
    "    Data_inc_position = np.hstack((Data_inc_position, temp))\n",
    "\n",
    "Data_inc = np.vstack((Data_inc, Data_inc_position))"
   ],
   "metadata": {
    "collapsed": false
   },
   "id": "1b05b813f20d24a"
  },
  {
   "cell_type": "code",
   "outputs": [],
   "source": [
    "# Train GMM\n",
    "nbStates = 6\n",
    "nbVar = data.shape[0]\n",
    "Priors = np.zeros(nbStates)\n",
    "Mu = np.zeros((nbVar, nbStates))\n",
    "Sigma = np.zeros((nbVar, nbVar, nbStates))"
   ],
   "metadata": {
    "collapsed": false
   },
   "id": "72f2f0806bac41f9"
  },
  {
   "cell_type": "code",
   "outputs": [],
   "source": [
    "\n",
    "# Plot the GMM encoding results\n",
    "fig, axs = plt.subplots(nbVar - 1, 1, figsize=(7, 7))\n",
    "\n",
    "for n in range(nbVar - 1):\n",
    "    axs[n].plot()  # Implement plotGMM1 function\n",
    "    for j in range(n_seq_corr):\n",
    "        axs[n].plot(data[n + 1, j * l:(j + 1) * l], color=[0, 0, 0, 0.1], linewidth=0.25)\n",
    "    axs[n].set_xlim(min(data[0]), max(data[0]))\n",
    "    axs[n].set_ylim(min(data[n + 1]) - 0.01, max(data[n + 1]) + 0.01)\n",
    "    axs[n].set_xticks(np.arange(0, 230, 20))\n",
    "    axs[n].set_yticks(np.arange(-200, 201, 50))\n",
    "    axs[n].set_xlabel('Time Frame', fontsize=12)\n",
    "    axs[n].set_ylabel('Angle (Degrees)', fontsize=12)\n",
    "\n",
    "plt.savefig('../Results/GMM_Encoded_Movements.png', dpi=300)"
   ],
   "metadata": {
    "collapsed": false
   },
   "id": "2265ccd31c594c57"
  },
  {
   "cell_type": "code",
   "outputs": [],
   "source": [
    "# Calculate data loglikelihood\n",
    "loglikelihood_corr = np.zeros(n_seq_corr)\n",
    "loglikelihood_inc = np.zeros(n_seq_inc)\n",
    "\n",
    "for j in range(n_seq_corr):\n",
    "    # Implement loglik function\n",
    "    loglikelihood_corr[j] = -loglik(data[:, j * l:(j + 1) * l], nbStates, Priors, Mu, Sigma)\n",
    "\n",
    "for j in range(n_seq_inc):\n",
    "    loglikelihood_inc[j] = -loglik(Data_inc[:, j * l:(j + 1) * l], nbStates, Priors, Mu, Sigma)\n"
   ],
   "metadata": {
    "collapsed": false
   },
   "id": "da852dd143feaa1d"
  },
  {
   "cell_type": "code",
   "outputs": [],
   "source": [
    "# Plot the scaled loglikelihood for correct and incorrect sequences\n",
    "MAX = max(max(loglikelihood_corr), max(loglikelihood_inc))\n",
    "MIN = min(min(loglikelihood_corr), min(loglikelihood_inc))\n",
    "Loglikelihood_sc_corr = 19 * (loglikelihood_corr - MIN) / (MAX - MIN) + 1\n",
    "Loglikelihood_sc_inc = 19 * (loglikelihood_inc - MIN) / (MAX - MIN) + 1"
   ],
   "metadata": {
    "collapsed": false
   },
   "id": "d3a90e39821fa3e8"
  },
  {
   "cell_type": "code",
   "outputs": [],
   "source": [
    "plt.figure()\n",
    "plt.plot(Loglikelihood_sc_corr, 'go', linewidth=2)\n",
    "plt.plot(Loglikelihood_sc_inc, 'rs', linewidth=2)\n",
    "plt.xlabel('Sequence Number', fontsize=18)\n",
    "plt.ylabel('Loglikelihood', fontsize=18)\n",
    "plt.title('GMM Loglikelihood Scores', fontsize=18)\n",
    "plt.legend(['Correct Sequences', 'Incorrect Sequences'], fontsize=16, loc='upper left')\n",
    "plt.gca().spines['top'].set_visible(False)\n",
    "plt.gca().spines['right'].set_visible(False)\n",
    "plt.gca().tick_params(axis='both', which='major', labelsize=14)\n",
    "plt.savefig('../Results/GMM_Loglikelihood_Scores.png', dpi=300)"
   ],
   "metadata": {
    "collapsed": false
   },
   "id": "e89771b8f17eba46"
  },
  {
   "cell_type": "code",
   "outputs": [],
   "source": [
    "# Plot the movement quality scores\n",
    "mean_abs_corr = np.mean(np.abs(loglikelihood_corr))\n",
    "std_abs_corr = np.std(np.abs(loglikelihood_corr))"
   ],
   "metadata": {
    "collapsed": false
   },
   "id": "354456a331d81f74"
  },
  {
   "cell_type": "code",
   "outputs": [],
   "source": [
    "corr_Y = np.zeros(n_seq_corr)\n",
    "inc_Y = np.zeros(n_seq_corr)\n",
    "Correct_Y = np.zeros(n_seq_corr)\n",
    "Incorrect_Y = np.zeros(n_seq_corr)"
   ],
   "metadata": {
    "collapsed": false
   },
   "id": "4e043f1edd141ad6"
  },
  {
   "cell_type": "code",
   "outputs": [],
   "source": [
    "\n",
    "for r in range(n_seq_corr):\n",
    "    corr_Y[r] = loglikelihood_corr[r] / (mean_abs_corr + 3 * std_abs_corr)\n",
    "    inc_Y[r] = loglikelihood_inc[r] / (mean_abs_corr + 3 * std_abs_corr)\n",
    "\n",
    "    Correct_Y[r] = 1 / (1 + np.exp(-3.2 + corr_Y[r]))\n",
    "    Incorrect_Y[r] = 1 / (1 + np.exp(-3.2 + corr_Y[r]) + (inc_Y[r] - corr_Y[r]) / 10)\n"
   ],
   "metadata": {
    "collapsed": false
   },
   "id": "b4ebfcbebc1ae7d7"
  },
  {
   "cell_type": "code",
   "outputs": [],
   "source": [
    "plt.figure()\n",
    "plt.plot(Correct_Y, 'ko', markerfacecolor='g')\n",
    "plt.plot(Incorrect_Y, 'ks', markerfacecolor='r')\n",
    "plt.xlabel('Sequence Number', fontsize=18)\n",
    "plt.ylabel('Quality Score', fontsize=18)\n",
    "plt.title('GMM Movement Quality Scores', fontsize=18)\n",
    "plt.legend(['Correct Sequences', 'Incorrect Sequences'], fontsize=16, loc='lower left')\n",
    "plt.gca().spines['top'].set_visible(False)\n",
    "plt.gca().spines['right'].set_visible(False)\n",
    "plt.gca().tick_params(axis='both', which='major', labelsize=14)\n",
    "plt.savefig('../Results/GMM_Movement_Quality_Scores.png', dpi=300)"
   ],
   "metadata": {
    "collapsed": false
   },
   "id": "6ac59cd5bd6c1273"
  },
  {
   "cell_type": "code",
   "outputs": [],
   "source": [
    "# Save the labels\n",
    "np.savetxt('Labels_Correct.csv', Correct_Y, delimiter=',')\n",
    "np.savetxt('Labels_Incorrect.csv', Incorrect_Y, delimiter=',')"
   ],
   "metadata": {
    "collapsed": false
   },
   "id": "8f72a7d2fbedc367"
  }
 ],
 "metadata": {
  "kernelspec": {
   "display_name": "Python 3",
   "language": "python",
   "name": "python3"
  },
  "language_info": {
   "codemirror_mode": {
    "name": "ipython",
    "version": 2
   },
   "file_extension": ".py",
   "mimetype": "text/x-python",
   "name": "python",
   "nbconvert_exporter": "python",
   "pygments_lexer": "ipython2",
   "version": "2.7.6"
  }
 },
 "nbformat": 4,
 "nbformat_minor": 5
}
