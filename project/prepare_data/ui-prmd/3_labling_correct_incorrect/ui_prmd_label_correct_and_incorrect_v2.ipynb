{
  "cells": [
    {
      "cell_type": "code",
      "outputs": [],
      "source": [
        "import pandas as pd\n",
        "import numpy as np\n",
        "from scipy.interpolate import interp1d\n",
        "from matplotlib import pyplot as plt\n",
        "import csv\n",
        "\n"
      ],
      "metadata": {
        "id": "2f160fad2d54f16e"
      },
      "id": "2f160fad2d54f16e",
      "execution_count": 1
    },
    {
      "cell_type": "markdown",
      "source": [
        "\n",
        "\n",
        "### Define parameters"
      ],
      "metadata": {
        "collapsed": false,
        "id": "be2586c3b2726d07"
      },
      "id": "be2586c3b2726d07"
    },
    {
      "cell_type": "code",
      "source": [
        "n_subjects = 10\n",
        "n_episodes_per_subject = 10\n",
        "sequence_length = 240 # Desired length after alignment"
      ],
      "metadata": {
        "id": "N8hzd_kwd8Sp"
      },
      "id": "N8hzd_kwd8Sp",
      "execution_count": null,
      "outputs": []
    },
    {
      "cell_type": "code",
      "outputs": [],
      "source": [
        "'''\n",
        "data_nn = np.loadtxt('Autoencoder_Output_Correct.csv', delimiter=',')\n",
        "\n",
        "Data_NN_inc = np.loadtxt('Autoencoder_Output_Incorrect.csv', delimiter=',')\n",
        "'''"
      ],
      "metadata": {
        "id": "583f35de897004e9"
      },
      "id": "583f35de897004e9",
      "execution_count": null
    },
    {
      "cell_type": "code",
      "execution_count": null,
      "id": "initial_id",
      "metadata": {
        "collapsed": true,
        "id": "initial_id"
      },
      "outputs": [],
      "source": [
        "\n",
        "# Data loading functions (assuming consistent file naming)\n",
        "def load_angles(subject, episode, correct=True):\n",
        "  prefix = \"Segmented Movements/Vicon/Angles/\" if correct else \"Incorrect Segmented Movements/Vicon/Angles/\"\n",
        "  filename = f\"{prefix}m01_s{subject:02d}_e{episode:02d}_angles.txt\"\n",
        "  return csv.reader(open(filename))\n",
        "\n",
        "# Load correct and incorrect angle data\n",
        "correct_angles = {}\n",
        "incorrect_angles = {}\n",
        "for subject in range(1, n_subjects + 1):\n",
        "  for episode in range(1, n_episodes_per_subject + 1):\n",
        "    correct_angles[(subject, episode)] = next(load_angles(subject, episode))\n",
        "    incorrect_angles[(subject, episode)] = next(load_angles(subject, episode, correct=False))"
      ]
    },
    {
      "cell_type": "code",
      "outputs": [],
      "source": [
        "# Reorganize data into initial arrays\n",
        "correct_sequences = []\n",
        "incorrect_sequences = []\n",
        "for subject in range(1, n_subjects + 1):\n",
        "  for episode in range(1, n_episodes_per_subject + 1):\n",
        "    correct_sequences.append(list(map(float, correct_angles[(subject, episode)])))\n",
        "    incorrect_sequences.append(list(map(float, incorrect_angles[(subject, episode)])))\n",
        "\n",
        "# Remove inconsistent episodes (adjust indices as needed)\n",
        "correct_sequences = correct_sequences[1::] + correct_sequences[11::] + correct_sequences[21::] + correct_sequences[31::] + correct_sequences[41::] + correct_sequences[50::] + correct_sequences[61:63] + correct_sequences[64::] + correct_sequences[71::] + correct_sequences[81::] + correct_sequences[85::] + correct_sequences[90::]\n",
        "incorrect_sequences = incorrect_sequences[1::] + incorrect_sequences[11::] + incorrect_sequences[21::] + incorrect_sequences[31::] + incorrect_sequences[41::] + incorrect_sequences[50::] + incorrect_sequences[61:63] + incorrect_sequences[64::] + incorrect_sequences[71::] + incorrect_sequences[81::] + incorrect_sequences[85::] + incorrect_sequences[90::]"
      ],
      "metadata": {
        "id": "f1720565bd6a13c5"
      },
      "id": "f1720565bd6a13c5",
      "execution_count": null
    },
    {
      "cell_type": "code",
      "outputs": [],
      "source": [
        "# Perform linear alignment\n",
        "n_sequences = len(correct_sequences)\n",
        "correct_aligned = []\n",
        "incorrect_aligned = []\n",
        "for sequence in correct_sequences:\n",
        "  sequence_length_original = len(sequence)\n",
        "  f = interp1d([1, sequence_length_original], sequence, kind='linear')\n",
        "  correct_aligned.append(f(list(range(1, sequence_length + 1))))\n",
        "\n",
        "for sequence in incorrect_sequences:\n",
        "  sequence_length_original = len(sequence)\n",
        "  f = interp1d([1, sequence_length_original], sequence, kind='linear')\n",
        "  incorrect_aligned.append(f(list(range(1, sequence_length + 1))))"
      ],
      "metadata": {
        "id": "1b05b813f20d24a"
      },
      "id": "1b05b813f20d24a",
      "execution_count": null
    },
    {
      "cell_type": "code",
      "outputs": [],
      "source": [
        "# Transform data into matrices\n",
        "correct_data = np.array(correct_aligned).T\n",
        "incorrect_data = np.array(incorrect_aligned).T"
      ],
      "metadata": {
        "id": "72f2f0806bac41f9"
      },
      "id": "72f2f0806bac41f9",
      "execution_count": null
    },
    {
      "cell_type": "code",
      "outputs": [],
      "source": [
        "# Re-center and scale the data\n",
        "data_mean_correct = np.mean(correct_data, axis=1, keepdims=True)\n",
        "centered_correct_data = correct_data - data_mean_correct\n",
        "scaling_value_correct = np.max(np.abs(centered_correct_data))\n",
        "\n",
        "data_mean_incorrect = np.mean(incorrect_data, axis=1, keepdims=True)\n",
        "centered_incorrect_data = incorrect_data - data_mean_incorrect\n",
        "scaling_value_incorrect = np.max(np.abs(centered_incorrect_data))\n",
        "\n",
        "data_correct = centered_correct_data / scaling_value_correct\n",
        "data_incorrect = centered_incorrect_data / scaling_value_incorrect\n"
      ],
      "metadata": {
        "id": "2265ccd31c594c57"
      },
      "id": "2265ccd31c594c57",
      "execution_count": null
    },
    {
      "cell_type": "code",
      "outputs": [],
      "source": [
        "# Save the data (replace with your preferred saving method)\n",
        "np.savetxt('Data_Correct.csv', data_correct, delimiter=',')\n",
        "np.savetxt('Data_Incorrectrect_Y, delimiter=',')"
      ],
      "metadata": {
        "id": "8f72a7d2fbedc367"
      },
      "id": "8f72a7d2fbedc367",
      "execution_count": null
    }
  ],
  "metadata": {
    "kernelspec": {
      "display_name": "Python 3",
      "language": "python",
      "name": "python3"
    },
    "language_info": {
      "codemirror_mode": {
        "name": "ipython",
        "version": 2
      },
      "file_extension": ".py",
      "mimetype": "text/x-python",
      "name": "python",
      "nbconvert_exporter": "python",
      "pygments_lexer": "ipython2",
      "version": "2.7.6"
    },
    "colab": {
      "provenance": []
    }
  },
  "nbformat": 4,
  "nbformat_minor": 5
}