{
 "cells": [
  {
   "cell_type": "code",
   "execution_count": 1,
   "id": "initial_id",
   "metadata": {
    "collapsed": true,
    "ExecuteTime": {
     "end_time": "2024-03-21T05:16:10.712177Z",
     "start_time": "2024-03-21T05:16:10.518241Z"
    }
   },
   "outputs": [
    {
     "ename": "ModuleNotFoundError",
     "evalue": "No module named 'mediapipe'",
     "output_type": "error",
     "traceback": [
      "\u001B[0;31m---------------------------------------------------------------------------\u001B[0m",
      "\u001B[0;31mModuleNotFoundError\u001B[0m                       Traceback (most recent call last)",
      "Cell \u001B[0;32mIn[1], line 2\u001B[0m\n\u001B[1;32m      1\u001B[0m \u001B[38;5;28;01mimport\u001B[39;00m \u001B[38;5;21;01mcv2\u001B[39;00m\n\u001B[0;32m----> 2\u001B[0m \u001B[38;5;28;01mimport\u001B[39;00m \u001B[38;5;21;01mmediapipe\u001B[39;00m \u001B[38;5;28;01mas\u001B[39;00m \u001B[38;5;21;01mmp\u001B[39;00m\n",
      "\u001B[0;31mModuleNotFoundError\u001B[0m: No module named 'mediapipe'"
     ]
    }
   ],
   "source": [
    "import cv2\n",
    "import mediapipe as mp"
   ]
  },
  {
   "cell_type": "code",
   "outputs": [],
   "source": [
    "def preprocess_landmarks(landmarks):\n",
    "# ... (your preprocessing logic from previous discussion)\n"
   ],
   "metadata": {
    "collapsed": false
   },
   "id": "d6a081af5d2287f8"
  },
  {
   "cell_type": "code",
   "outputs": [],
   "source": [
    "def reshape_for_model(landmarks):\n",
    "    # ... (your reshaping logic based on your model)"
   ],
   "metadata": {
    "collapsed": false
   },
   "id": "ce0417f08e7dbbce"
  },
  {
   "cell_type": "code",
   "outputs": [],
   "source": [
    "def main():\n",
    "    # Initialize MediaPipe and video capture\n",
    "    mp_drawing = mp.solutions.drawing_utils\n",
    "    mp_drawing_styles = mp.solutions.drawing_styles\n",
    "    mp_pose = mp.solutions.pose\n",
    "\n",
    "    cap = cv2.VideoCapture(0)  # Change 0 to video file path if needed\n",
    "\n",
    "    # Load your pre-trained model (replace with your model loading code)\n",
    "    model = ...\n",
    "\n",
    "    while cap.isOpened():\n",
    "        success, image = cap.read()\n",
    "        if not success:\n",
    "            print(\"Ignoring empty camera frame.\")\n",
    "            # If live video stops, handle it appropriately\n",
    "            continue\n",
    "\n",
    "        # Convert BGR image to RGB for MediaPipe\n",
    "        image_rgb = cv2.cvtColor(image, cv2.COLOR_BGR2RGB)\n",
    "        results = mp_pose.process(image_rgb)\n",
    "\n",
    "        # Extract and preprocess landmarks (if needed)\n",
    "        if results.pose_landmarks:\n",
    "            landmarks = [(landmark.x, landmark.y, landmark.z) for landmark in results.pose_landmarks.landmark]\n",
    "            preprocessed_landmarks = preprocess_landmarks(landmarks)\n",
    "\n",
    "            # Reshape for model input\n",
    "            model_input = reshape_for_model(preprocessed_landmarks)\n",
    "\n",
    "            # Make prediction using your model\n",
    "            prediction = model.predict(model_input)\n",
    "\n",
    "            # Do something with the prediction (e.g., display on screen)\n",
    "            print(f\"Prediction: {prediction}\")"
   ],
   "metadata": {
    "collapsed": false
   },
   "id": "ed0ee9d992fb500f"
  },
  {
   "cell_type": "code",
   "outputs": [],
   "source": [
    "mpdrawing.draw_landmarks(\n",
    "            image=image,\n",
    "            landmark_list=results.pose_landmarks,\n",
    "            connections=mp_pose.POSE_CONNECTIONS,\n",
    "            landmark_drawing_spec=mp_drawing_styles\n",
    "            .get_default_pose_landmark_drawing_spec(),\n",
    "            connection_drawing_spec=mp_drawing_styles\n",
    "            .get_default_pose_connection_drawing)"
   ],
   "metadata": {
    "collapsed": false
   },
   "id": "4c287a69192a2e1e"
  }
 ],
 "metadata": {
  "kernelspec": {
   "display_name": "Python 3",
   "language": "python",
   "name": "python3"
  },
  "language_info": {
   "codemirror_mode": {
    "name": "ipython",
    "version": 2
   },
   "file_extension": ".py",
   "mimetype": "text/x-python",
   "name": "python",
   "nbconvert_exporter": "python",
   "pygments_lexer": "ipython2",
   "version": "2.7.6"
  }
 },
 "nbformat": 4,
 "nbformat_minor": 5
}
